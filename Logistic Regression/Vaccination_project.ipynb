{
  "nbformat": 4,
  "nbformat_minor": 0,
  "metadata": {
    "colab": {
      "name": "Vaccination_project.ipynb",
      "provenance": [],
      "collapsed_sections": []
    },
    "kernelspec": {
      "name": "python3",
      "display_name": "Python 3"
    },
    "language_info": {
      "name": "python"
    }
  },
  "cells": [
    {
      "cell_type": "markdown",
      "source": [
        "# **Vaccine Usage Prediction**"
      ],
      "metadata": {
        "id": "MT7Yc6w0Ffg9"
      }
    },
    {
      "cell_type": "markdown",
      "source": [
        "### Step 1: Reading the dataset"
      ],
      "metadata": {
        "id": "bPoEJVjwGGMv"
      }
    },
    {
      "cell_type": "code",
      "execution_count": 1,
      "metadata": {
        "id": "Q3BOjEueziVr"
      },
      "outputs": [],
      "source": [
        "# Importing the required library\n",
        "import pandas as pd\n",
        "import numpy as np\n",
        "import matplotlib.pyplot as plt\n",
        "import seaborn as sns\n",
        "from sklearn.linear_model import LogisticRegression\n",
        "from sklearn.model_selection import train_test_split\n",
        "from sklearn.linear_model import SGDRegressor"
      ]
    },
    {
      "cell_type": "code",
      "source": [
        "#After reading the dataset, let’s check its top 5 rows using head() method to just see how the data looks.\n",
        "df_vacc=pd.read_csv('/content/h1n1_vaccine_prediction.csv')\n",
        "df_vacc.head()"
      ],
      "metadata": {
        "colab": {
          "base_uri": "https://localhost:8080/",
          "height": 456
        },
        "id": "Q_bxBdkTzm9U",
        "outputId": "2866fe5c-784c-46ea-d0c2-f51d72d06f08"
      },
      "execution_count": 2,
      "outputs": [
        {
          "output_type": "execute_result",
          "data": {
            "text/plain": [
              "   unique_id  h1n1_worry  h1n1_awareness  antiviral_medication  \\\n",
              "0          0         1.0             0.0                   0.0   \n",
              "1          1         3.0             2.0                   0.0   \n",
              "2          2         1.0             1.0                   0.0   \n",
              "3          3         1.0             1.0                   0.0   \n",
              "4          4         2.0             1.0                   0.0   \n",
              "\n",
              "   contact_avoidance  bought_face_mask  wash_hands_frequently  \\\n",
              "0                0.0               0.0                    0.0   \n",
              "1                1.0               0.0                    1.0   \n",
              "2                1.0               0.0                    0.0   \n",
              "3                1.0               0.0                    1.0   \n",
              "4                1.0               0.0                    1.0   \n",
              "\n",
              "   avoid_large_gatherings  reduced_outside_home_cont  avoid_touch_face  ...  \\\n",
              "0                     0.0                        1.0               1.0  ...   \n",
              "1                     0.0                        1.0               1.0  ...   \n",
              "2                     0.0                        0.0               0.0  ...   \n",
              "3                     1.0                        0.0               0.0  ...   \n",
              "4                     1.0                        0.0               1.0  ...   \n",
              "\n",
              "    race     sex               income_level  marital_status  housing_status  \\\n",
              "0  White  Female              Below Poverty     Not Married             Own   \n",
              "1  White    Male              Below Poverty     Not Married            Rent   \n",
              "2  White    Male  <= $75,000, Above Poverty     Not Married             Own   \n",
              "3  White  Female              Below Poverty     Not Married            Rent   \n",
              "4  White  Female  <= $75,000, Above Poverty         Married             Own   \n",
              "\n",
              "           employment                census_msa  no_of_adults  no_of_children  \\\n",
              "0  Not in Labor Force                   Non-MSA           0.0             0.0   \n",
              "1            Employed  MSA, Not Principle  City           0.0             0.0   \n",
              "2            Employed  MSA, Not Principle  City           2.0             0.0   \n",
              "3  Not in Labor Force       MSA, Principle City           0.0             0.0   \n",
              "4            Employed  MSA, Not Principle  City           1.0             0.0   \n",
              "\n",
              "   h1n1_vaccine  \n",
              "0             0  \n",
              "1             0  \n",
              "2             0  \n",
              "3             0  \n",
              "4             0  \n",
              "\n",
              "[5 rows x 34 columns]"
            ],
            "text/html": [
              "\n",
              "  <div id=\"df-1f4b6992-e935-4f7f-bbf7-00bad1627652\">\n",
              "    <div class=\"colab-df-container\">\n",
              "      <div>\n",
              "<style scoped>\n",
              "    .dataframe tbody tr th:only-of-type {\n",
              "        vertical-align: middle;\n",
              "    }\n",
              "\n",
              "    .dataframe tbody tr th {\n",
              "        vertical-align: top;\n",
              "    }\n",
              "\n",
              "    .dataframe thead th {\n",
              "        text-align: right;\n",
              "    }\n",
              "</style>\n",
              "<table border=\"1\" class=\"dataframe\">\n",
              "  <thead>\n",
              "    <tr style=\"text-align: right;\">\n",
              "      <th></th>\n",
              "      <th>unique_id</th>\n",
              "      <th>h1n1_worry</th>\n",
              "      <th>h1n1_awareness</th>\n",
              "      <th>antiviral_medication</th>\n",
              "      <th>contact_avoidance</th>\n",
              "      <th>bought_face_mask</th>\n",
              "      <th>wash_hands_frequently</th>\n",
              "      <th>avoid_large_gatherings</th>\n",
              "      <th>reduced_outside_home_cont</th>\n",
              "      <th>avoid_touch_face</th>\n",
              "      <th>...</th>\n",
              "      <th>race</th>\n",
              "      <th>sex</th>\n",
              "      <th>income_level</th>\n",
              "      <th>marital_status</th>\n",
              "      <th>housing_status</th>\n",
              "      <th>employment</th>\n",
              "      <th>census_msa</th>\n",
              "      <th>no_of_adults</th>\n",
              "      <th>no_of_children</th>\n",
              "      <th>h1n1_vaccine</th>\n",
              "    </tr>\n",
              "  </thead>\n",
              "  <tbody>\n",
              "    <tr>\n",
              "      <th>0</th>\n",
              "      <td>0</td>\n",
              "      <td>1.0</td>\n",
              "      <td>0.0</td>\n",
              "      <td>0.0</td>\n",
              "      <td>0.0</td>\n",
              "      <td>0.0</td>\n",
              "      <td>0.0</td>\n",
              "      <td>0.0</td>\n",
              "      <td>1.0</td>\n",
              "      <td>1.0</td>\n",
              "      <td>...</td>\n",
              "      <td>White</td>\n",
              "      <td>Female</td>\n",
              "      <td>Below Poverty</td>\n",
              "      <td>Not Married</td>\n",
              "      <td>Own</td>\n",
              "      <td>Not in Labor Force</td>\n",
              "      <td>Non-MSA</td>\n",
              "      <td>0.0</td>\n",
              "      <td>0.0</td>\n",
              "      <td>0</td>\n",
              "    </tr>\n",
              "    <tr>\n",
              "      <th>1</th>\n",
              "      <td>1</td>\n",
              "      <td>3.0</td>\n",
              "      <td>2.0</td>\n",
              "      <td>0.0</td>\n",
              "      <td>1.0</td>\n",
              "      <td>0.0</td>\n",
              "      <td>1.0</td>\n",
              "      <td>0.0</td>\n",
              "      <td>1.0</td>\n",
              "      <td>1.0</td>\n",
              "      <td>...</td>\n",
              "      <td>White</td>\n",
              "      <td>Male</td>\n",
              "      <td>Below Poverty</td>\n",
              "      <td>Not Married</td>\n",
              "      <td>Rent</td>\n",
              "      <td>Employed</td>\n",
              "      <td>MSA, Not Principle  City</td>\n",
              "      <td>0.0</td>\n",
              "      <td>0.0</td>\n",
              "      <td>0</td>\n",
              "    </tr>\n",
              "    <tr>\n",
              "      <th>2</th>\n",
              "      <td>2</td>\n",
              "      <td>1.0</td>\n",
              "      <td>1.0</td>\n",
              "      <td>0.0</td>\n",
              "      <td>1.0</td>\n",
              "      <td>0.0</td>\n",
              "      <td>0.0</td>\n",
              "      <td>0.0</td>\n",
              "      <td>0.0</td>\n",
              "      <td>0.0</td>\n",
              "      <td>...</td>\n",
              "      <td>White</td>\n",
              "      <td>Male</td>\n",
              "      <td>&lt;= $75,000, Above Poverty</td>\n",
              "      <td>Not Married</td>\n",
              "      <td>Own</td>\n",
              "      <td>Employed</td>\n",
              "      <td>MSA, Not Principle  City</td>\n",
              "      <td>2.0</td>\n",
              "      <td>0.0</td>\n",
              "      <td>0</td>\n",
              "    </tr>\n",
              "    <tr>\n",
              "      <th>3</th>\n",
              "      <td>3</td>\n",
              "      <td>1.0</td>\n",
              "      <td>1.0</td>\n",
              "      <td>0.0</td>\n",
              "      <td>1.0</td>\n",
              "      <td>0.0</td>\n",
              "      <td>1.0</td>\n",
              "      <td>1.0</td>\n",
              "      <td>0.0</td>\n",
              "      <td>0.0</td>\n",
              "      <td>...</td>\n",
              "      <td>White</td>\n",
              "      <td>Female</td>\n",
              "      <td>Below Poverty</td>\n",
              "      <td>Not Married</td>\n",
              "      <td>Rent</td>\n",
              "      <td>Not in Labor Force</td>\n",
              "      <td>MSA, Principle City</td>\n",
              "      <td>0.0</td>\n",
              "      <td>0.0</td>\n",
              "      <td>0</td>\n",
              "    </tr>\n",
              "    <tr>\n",
              "      <th>4</th>\n",
              "      <td>4</td>\n",
              "      <td>2.0</td>\n",
              "      <td>1.0</td>\n",
              "      <td>0.0</td>\n",
              "      <td>1.0</td>\n",
              "      <td>0.0</td>\n",
              "      <td>1.0</td>\n",
              "      <td>1.0</td>\n",
              "      <td>0.0</td>\n",
              "      <td>1.0</td>\n",
              "      <td>...</td>\n",
              "      <td>White</td>\n",
              "      <td>Female</td>\n",
              "      <td>&lt;= $75,000, Above Poverty</td>\n",
              "      <td>Married</td>\n",
              "      <td>Own</td>\n",
              "      <td>Employed</td>\n",
              "      <td>MSA, Not Principle  City</td>\n",
              "      <td>1.0</td>\n",
              "      <td>0.0</td>\n",
              "      <td>0</td>\n",
              "    </tr>\n",
              "  </tbody>\n",
              "</table>\n",
              "<p>5 rows × 34 columns</p>\n",
              "</div>\n",
              "      <button class=\"colab-df-convert\" onclick=\"convertToInteractive('df-1f4b6992-e935-4f7f-bbf7-00bad1627652')\"\n",
              "              title=\"Convert this dataframe to an interactive table.\"\n",
              "              style=\"display:none;\">\n",
              "        \n",
              "  <svg xmlns=\"http://www.w3.org/2000/svg\" height=\"24px\"viewBox=\"0 0 24 24\"\n",
              "       width=\"24px\">\n",
              "    <path d=\"M0 0h24v24H0V0z\" fill=\"none\"/>\n",
              "    <path d=\"M18.56 5.44l.94 2.06.94-2.06 2.06-.94-2.06-.94-.94-2.06-.94 2.06-2.06.94zm-11 1L8.5 8.5l.94-2.06 2.06-.94-2.06-.94L8.5 2.5l-.94 2.06-2.06.94zm10 10l.94 2.06.94-2.06 2.06-.94-2.06-.94-.94-2.06-.94 2.06-2.06.94z\"/><path d=\"M17.41 7.96l-1.37-1.37c-.4-.4-.92-.59-1.43-.59-.52 0-1.04.2-1.43.59L10.3 9.45l-7.72 7.72c-.78.78-.78 2.05 0 2.83L4 21.41c.39.39.9.59 1.41.59.51 0 1.02-.2 1.41-.59l7.78-7.78 2.81-2.81c.8-.78.8-2.07 0-2.86zM5.41 20L4 18.59l7.72-7.72 1.47 1.35L5.41 20z\"/>\n",
              "  </svg>\n",
              "      </button>\n",
              "      \n",
              "  <style>\n",
              "    .colab-df-container {\n",
              "      display:flex;\n",
              "      flex-wrap:wrap;\n",
              "      gap: 12px;\n",
              "    }\n",
              "\n",
              "    .colab-df-convert {\n",
              "      background-color: #E8F0FE;\n",
              "      border: none;\n",
              "      border-radius: 50%;\n",
              "      cursor: pointer;\n",
              "      display: none;\n",
              "      fill: #1967D2;\n",
              "      height: 32px;\n",
              "      padding: 0 0 0 0;\n",
              "      width: 32px;\n",
              "    }\n",
              "\n",
              "    .colab-df-convert:hover {\n",
              "      background-color: #E2EBFA;\n",
              "      box-shadow: 0px 1px 2px rgba(60, 64, 67, 0.3), 0px 1px 3px 1px rgba(60, 64, 67, 0.15);\n",
              "      fill: #174EA6;\n",
              "    }\n",
              "\n",
              "    [theme=dark] .colab-df-convert {\n",
              "      background-color: #3B4455;\n",
              "      fill: #D2E3FC;\n",
              "    }\n",
              "\n",
              "    [theme=dark] .colab-df-convert:hover {\n",
              "      background-color: #434B5C;\n",
              "      box-shadow: 0px 1px 3px 1px rgba(0, 0, 0, 0.15);\n",
              "      filter: drop-shadow(0px 1px 2px rgba(0, 0, 0, 0.3));\n",
              "      fill: #FFFFFF;\n",
              "    }\n",
              "  </style>\n",
              "\n",
              "      <script>\n",
              "        const buttonEl =\n",
              "          document.querySelector('#df-1f4b6992-e935-4f7f-bbf7-00bad1627652 button.colab-df-convert');\n",
              "        buttonEl.style.display =\n",
              "          google.colab.kernel.accessAllowed ? 'block' : 'none';\n",
              "\n",
              "        async function convertToInteractive(key) {\n",
              "          const element = document.querySelector('#df-1f4b6992-e935-4f7f-bbf7-00bad1627652');\n",
              "          const dataTable =\n",
              "            await google.colab.kernel.invokeFunction('convertToInteractive',\n",
              "                                                     [key], {});\n",
              "          if (!dataTable) return;\n",
              "\n",
              "          const docLinkHtml = 'Like what you see? Visit the ' +\n",
              "            '<a target=\"_blank\" href=https://colab.research.google.com/notebooks/data_table.ipynb>data table notebook</a>'\n",
              "            + ' to learn more about interactive tables.';\n",
              "          element.innerHTML = '';\n",
              "          dataTable['output_type'] = 'display_data';\n",
              "          await google.colab.output.renderOutput(dataTable, element);\n",
              "          const docLink = document.createElement('div');\n",
              "          docLink.innerHTML = docLinkHtml;\n",
              "          element.appendChild(docLink);\n",
              "        }\n",
              "      </script>\n",
              "    </div>\n",
              "  </div>\n",
              "  "
            ]
          },
          "metadata": {},
          "execution_count": 2
        }
      ]
    },
    {
      "cell_type": "code",
      "source": [
        "df_vacc.info()"
      ],
      "metadata": {
        "colab": {
          "base_uri": "https://localhost:8080/"
        },
        "id": "UNW-Pkb-zpNY",
        "outputId": "c42669ef-6e8a-4dc0-b55e-ac205df86429"
      },
      "execution_count": 3,
      "outputs": [
        {
          "output_type": "stream",
          "name": "stdout",
          "text": [
            "<class 'pandas.core.frame.DataFrame'>\n",
            "RangeIndex: 26707 entries, 0 to 26706\n",
            "Data columns (total 34 columns):\n",
            " #   Column                     Non-Null Count  Dtype  \n",
            "---  ------                     --------------  -----  \n",
            " 0   unique_id                  26707 non-null  int64  \n",
            " 1   h1n1_worry                 26615 non-null  float64\n",
            " 2   h1n1_awareness             26591 non-null  float64\n",
            " 3   antiviral_medication       26636 non-null  float64\n",
            " 4   contact_avoidance          26499 non-null  float64\n",
            " 5   bought_face_mask           26688 non-null  float64\n",
            " 6   wash_hands_frequently      26665 non-null  float64\n",
            " 7   avoid_large_gatherings     26620 non-null  float64\n",
            " 8   reduced_outside_home_cont  26625 non-null  float64\n",
            " 9   avoid_touch_face           26579 non-null  float64\n",
            " 10  dr_recc_h1n1_vacc          24547 non-null  float64\n",
            " 11  dr_recc_seasonal_vacc      24547 non-null  float64\n",
            " 12  chronic_medic_condition    25736 non-null  float64\n",
            " 13  cont_child_undr_6_mnths    25887 non-null  float64\n",
            " 14  is_health_worker           25903 non-null  float64\n",
            " 15  has_health_insur           14433 non-null  float64\n",
            " 16  is_h1n1_vacc_effective     26316 non-null  float64\n",
            " 17  is_h1n1_risky              26319 non-null  float64\n",
            " 18  sick_from_h1n1_vacc        26312 non-null  float64\n",
            " 19  is_seas_vacc_effective     26245 non-null  float64\n",
            " 20  is_seas_risky              26193 non-null  float64\n",
            " 21  sick_from_seas_vacc        26170 non-null  float64\n",
            " 22  age_bracket                26707 non-null  object \n",
            " 23  qualification              25300 non-null  object \n",
            " 24  race                       26707 non-null  object \n",
            " 25  sex                        26707 non-null  object \n",
            " 26  income_level               22284 non-null  object \n",
            " 27  marital_status             25299 non-null  object \n",
            " 28  housing_status             24665 non-null  object \n",
            " 29  employment                 25244 non-null  object \n",
            " 30  census_msa                 26707 non-null  object \n",
            " 31  no_of_adults               26458 non-null  float64\n",
            " 32  no_of_children             26458 non-null  float64\n",
            " 33  h1n1_vaccine               26707 non-null  int64  \n",
            "dtypes: float64(23), int64(2), object(9)\n",
            "memory usage: 6.9+ MB\n"
          ]
        }
      ]
    },
    {
      "cell_type": "code",
      "source": [
        "# Checking the shape of the dataset\n",
        "df_vacc.shape"
      ],
      "metadata": {
        "colab": {
          "base_uri": "https://localhost:8080/"
        },
        "id": "mK3cK7sPzrU3",
        "outputId": "65133648-c745-42c2-fdcf-8772fdeae139"
      },
      "execution_count": 4,
      "outputs": [
        {
          "output_type": "execute_result",
          "data": {
            "text/plain": [
              "(26707, 34)"
            ]
          },
          "metadata": {},
          "execution_count": 4
        }
      ]
    },
    {
      "cell_type": "markdown",
      "source": [
        "###  Step 2: Visualization "
      ],
      "metadata": {
        "id": "E2cjJKv7LbU-"
      }
    },
    {
      "cell_type": "code",
      "source": [
        "sns.countplot(x=\"h1n1_worry\",data=df_vacc,palette='autumn')"
      ],
      "metadata": {
        "colab": {
          "base_uri": "https://localhost:8080/",
          "height": 297
        },
        "id": "V__JV7KOzs7A",
        "outputId": "89652204-d3c9-4306-c37f-58a374de538a"
      },
      "execution_count": 5,
      "outputs": [
        {
          "output_type": "execute_result",
          "data": {
            "text/plain": [
              "<matplotlib.axes._subplots.AxesSubplot at 0x7fe950228bd0>"
            ]
          },
          "metadata": {},
          "execution_count": 5
        },
        {
          "output_type": "display_data",
          "data": {
            "text/plain": [
              "<Figure size 432x288 with 1 Axes>"
            ],
            "image/png": "[encoded data removed]"
          },
          "metadata": {
            "needs_background": "light"
          }
        }
      ]
    },
    {
      "cell_type": "code",
      "source": [
        "sns.countplot(x=\"h1n1_awareness\",data=df_vacc,palette='crest')"
      ],
      "metadata": {
        "colab": {
          "base_uri": "https://localhost:8080/",
          "height": 297
        },
        "id": "cZO2lHFxzv4R",
        "outputId": "dba4b546-5474-4822-9119-7db42c95eb98"
      },
      "execution_count": 46,
      "outputs": [
        {
          "output_type": "execute_result",
          "data": {
            "text/plain": [
              "<matplotlib.axes._subplots.AxesSubplot at 0x7fe94e7674d0>"
            ]
          },
          "metadata": {},
          "execution_count": 46
        },
        {
          "output_type": "display_data",
          "data": {
            "text/plain": [
              "<Figure size 432x288 with 1 Axes>"
            ],
            "image/png": "[encoded data removed]"
          },
          "metadata": {
            "needs_background": "light"
          }
        }
      ]
    },
    {
      "cell_type": "code",
      "source": [
        "sns.countplot(x=\"age_bracket\",data=df_vacc,palette='RdYlBu')  "
      ],
      "metadata": {
        "colab": {
          "base_uri": "https://localhost:8080/",
          "height": 297
        },
        "id": "cD5Xp0XTzyR6",
        "outputId": "7cb9a295-6ce3-464c-fe5b-e5bc7396e73d"
      },
      "execution_count": 48,
      "outputs": [
        {
          "output_type": "execute_result",
          "data": {
            "text/plain": [
              "<matplotlib.axes._subplots.AxesSubplot at 0x7fe94bab9510>"
            ]
          },
          "metadata": {},
          "execution_count": 48
        },
        {
          "output_type": "display_data",
          "data": {
            "text/plain": [
              "<Figure size 432x288 with 1 Axes>"
            ],
            "image/png": "[encoded data removed]"
          },
          "metadata": {
            "needs_background": "light"
          }
        }
      ]
    },
    {
      "cell_type": "code",
      "source": [
        "#Checking for missing values\n",
        "df_vacc.isnull().sum()"
      ],
      "metadata": {
        "colab": {
          "base_uri": "https://localhost:8080/"
        },
        "id": "aBM_AQul0HPH",
        "outputId": "a42ec131-7fea-4767-9eaf-fcad9fab2655"
      },
      "execution_count": 8,
      "outputs": [
        {
          "output_type": "execute_result",
          "data": {
            "text/plain": [
              "unique_id                        0\n",
              "h1n1_worry                      92\n",
              "h1n1_awareness                 116\n",
              "antiviral_medication            71\n",
              "contact_avoidance              208\n",
              "bought_face_mask                19\n",
              "wash_hands_frequently           42\n",
              "avoid_large_gatherings          87\n",
              "reduced_outside_home_cont       82\n",
              "avoid_touch_face               128\n",
              "dr_recc_h1n1_vacc             2160\n",
              "dr_recc_seasonal_vacc         2160\n",
              "chronic_medic_condition        971\n",
              "cont_child_undr_6_mnths        820\n",
              "is_health_worker               804\n",
              "has_health_insur             12274\n",
              "is_h1n1_vacc_effective         391\n",
              "is_h1n1_risky                  388\n",
              "sick_from_h1n1_vacc            395\n",
              "is_seas_vacc_effective         462\n",
              "is_seas_risky                  514\n",
              "sick_from_seas_vacc            537\n",
              "age_bracket                      0\n",
              "qualification                 1407\n",
              "race                             0\n",
              "sex                              0\n",
              "income_level                  4423\n",
              "marital_status                1408\n",
              "housing_status                2042\n",
              "employment                    1463\n",
              "census_msa                       0\n",
              "no_of_adults                   249\n",
              "no_of_children                 249\n",
              "h1n1_vaccine                     0\n",
              "dtype: int64"
            ]
          },
          "metadata": {},
          "execution_count": 8
        }
      ]
    },
    {
      "cell_type": "markdown",
      "source": [
        "Replacing categorical missing values with mode "
      ],
      "metadata": {
        "id": "_y7tcvRDLrQx"
      }
    },
    {
      "cell_type": "code",
      "source": [
        "for column in ['h1n1_worry', 'h1n1_awareness', 'antiviral_medication', 'contact_avoidance','bought_face_mask']:\n",
        "    df_vacc[column].fillna(df_vacc[column].mode()[0], inplace=True)"
      ],
      "metadata": {
        "id": "TC270n13-My0"
      },
      "execution_count": 9,
      "outputs": []
    },
    {
      "cell_type": "code",
      "source": [
        "df_vacc.isnull().sum()"
      ],
      "metadata": {
        "colab": {
          "base_uri": "https://localhost:8080/"
        },
        "id": "4HsXK6_h-sqr",
        "outputId": "45f26c45-a86d-4840-c12d-4c19bf67407d"
      },
      "execution_count": 10,
      "outputs": [
        {
          "output_type": "execute_result",
          "data": {
            "text/plain": [
              "unique_id                        0\n",
              "h1n1_worry                       0\n",
              "h1n1_awareness                   0\n",
              "antiviral_medication             0\n",
              "contact_avoidance                0\n",
              "bought_face_mask                 0\n",
              "wash_hands_frequently           42\n",
              "avoid_large_gatherings          87\n",
              "reduced_outside_home_cont       82\n",
              "avoid_touch_face               128\n",
              "dr_recc_h1n1_vacc             2160\n",
              "dr_recc_seasonal_vacc         2160\n",
              "chronic_medic_condition        971\n",
              "cont_child_undr_6_mnths        820\n",
              "is_health_worker               804\n",
              "has_health_insur             12274\n",
              "is_h1n1_vacc_effective         391\n",
              "is_h1n1_risky                  388\n",
              "sick_from_h1n1_vacc            395\n",
              "is_seas_vacc_effective         462\n",
              "is_seas_risky                  514\n",
              "sick_from_seas_vacc            537\n",
              "age_bracket                      0\n",
              "qualification                 1407\n",
              "race                             0\n",
              "sex                              0\n",
              "income_level                  4423\n",
              "marital_status                1408\n",
              "housing_status                2042\n",
              "employment                    1463\n",
              "census_msa                       0\n",
              "no_of_adults                   249\n",
              "no_of_children                 249\n",
              "h1n1_vaccine                     0\n",
              "dtype: int64"
            ]
          },
          "metadata": {},
          "execution_count": 10
        }
      ]
    },
    {
      "cell_type": "code",
      "source": [
        "for column in ['wash_hands_frequently', 'avoid_large_gatherings', 'reduced_outside_home_cont', 'avoid_touch_face','dr_recc_h1n1_vacc','sick_from_seas_vacc']:\n",
        "    df_vacc[column].fillna(df_vacc[column].mode()[0], inplace=True)"
      ],
      "metadata": {
        "id": "8EDXOW0N-0_K"
      },
      "execution_count": 11,
      "outputs": []
    },
    {
      "cell_type": "code",
      "source": [
        "df_vacc.isnull().sum()"
      ],
      "metadata": {
        "colab": {
          "base_uri": "https://localhost:8080/"
        },
        "id": "Vdekoa17HVvS",
        "outputId": "22326923-d923-442b-d2c8-928e42b92759"
      },
      "execution_count": 12,
      "outputs": [
        {
          "output_type": "execute_result",
          "data": {
            "text/plain": [
              "unique_id                        0\n",
              "h1n1_worry                       0\n",
              "h1n1_awareness                   0\n",
              "antiviral_medication             0\n",
              "contact_avoidance                0\n",
              "bought_face_mask                 0\n",
              "wash_hands_frequently            0\n",
              "avoid_large_gatherings           0\n",
              "reduced_outside_home_cont        0\n",
              "avoid_touch_face                 0\n",
              "dr_recc_h1n1_vacc                0\n",
              "dr_recc_seasonal_vacc         2160\n",
              "chronic_medic_condition        971\n",
              "cont_child_undr_6_mnths        820\n",
              "is_health_worker               804\n",
              "has_health_insur             12274\n",
              "is_h1n1_vacc_effective         391\n",
              "is_h1n1_risky                  388\n",
              "sick_from_h1n1_vacc            395\n",
              "is_seas_vacc_effective         462\n",
              "is_seas_risky                  514\n",
              "sick_from_seas_vacc              0\n",
              "age_bracket                      0\n",
              "qualification                 1407\n",
              "race                             0\n",
              "sex                              0\n",
              "income_level                  4423\n",
              "marital_status                1408\n",
              "housing_status                2042\n",
              "employment                    1463\n",
              "census_msa                       0\n",
              "no_of_adults                   249\n",
              "no_of_children                 249\n",
              "h1n1_vaccine                     0\n",
              "dtype: int64"
            ]
          },
          "metadata": {},
          "execution_count": 12
        }
      ]
    },
    {
      "cell_type": "markdown",
      "source": [
        "Replacing Numerical missing values with mean "
      ],
      "metadata": {
        "id": "_mRK5KbxLz2l"
      }
    },
    {
      "cell_type": "code",
      "source": [
        "mean_value=df_vacc['chronic_medic_condition'].mean()\n",
        "df_vacc['chronic_medic_condition'].fillna(value=mean_value,inplace=True)"
      ],
      "metadata": {
        "id": "lPWk7898J0eJ"
      },
      "execution_count": 30,
      "outputs": []
    },
    {
      "cell_type": "code",
      "source": [
        "mean_value=df_vacc['cont_child_undr_6_mnths'].mean()\n",
        "df_vacc['cont_child_undr_6_mnths'].fillna(value=mean_value,inplace=True)"
      ],
      "metadata": {
        "id": "AsIZT1LYJ6wj"
      },
      "execution_count": 31,
      "outputs": []
    },
    {
      "cell_type": "code",
      "source": [
        "mean_value=df_vacc['is_health_worker'].mean()\n",
        "df_vacc['is_health_worker'].fillna(value=mean_value,inplace=True)"
      ],
      "metadata": {
        "id": "3mjk5crkKDaE"
      },
      "execution_count": 32,
      "outputs": []
    },
    {
      "cell_type": "code",
      "source": [
        "mean_value=df_vacc['has_health_insur'].mean()\n",
        "df_vacc['has_health_insur'].fillna(value=mean_value,inplace=True)"
      ],
      "metadata": {
        "id": "xifhMccTKIYx"
      },
      "execution_count": 33,
      "outputs": []
    },
    {
      "cell_type": "code",
      "source": [
        "mean_value=df_vacc['is_h1n1_vacc_effective'].mean()\n",
        "df_vacc['is_h1n1_vacc_effective'].fillna(value=mean_value,inplace=True)"
      ],
      "metadata": {
        "id": "BRfLDpxWKQp1"
      },
      "execution_count": 34,
      "outputs": []
    },
    {
      "cell_type": "code",
      "source": [
        "mean_value=df_vacc['is_h1n1_risky'].mean()\n",
        "df_vacc['is_h1n1_risky'].fillna(value=mean_value,inplace=True)"
      ],
      "metadata": {
        "id": "vIPa9k7nKYM-"
      },
      "execution_count": 35,
      "outputs": []
    },
    {
      "cell_type": "code",
      "source": [
        "mean_value=df_vacc['dr_recc_seasonal_vacc'].mean()\n",
        "df_vacc['dr_recc_seasonal_vacc'].fillna(value=mean_value,inplace=True)"
      ],
      "metadata": {
        "id": "L5CWQUqFKkih"
      },
      "execution_count": 36,
      "outputs": []
    },
    {
      "cell_type": "code",
      "source": [
        "mean_value=df_vacc['sick_from_h1n1_vacc'].mean()\n",
        "df_vacc['sick_from_h1n1_vacc'].fillna(value=mean_value,inplace=True)"
      ],
      "metadata": {
        "id": "ufeqA2NFKozn"
      },
      "execution_count": 37,
      "outputs": []
    },
    {
      "cell_type": "code",
      "source": [
        "mean_value=df_vacc['is_seas_vacc_effective'].mean()\n",
        "df_vacc['is_seas_vacc_effective'].fillna(value=mean_value,inplace=True)"
      ],
      "metadata": {
        "id": "860hy-PSKom8"
      },
      "execution_count": 38,
      "outputs": []
    },
    {
      "cell_type": "code",
      "source": [
        "mean_value=df_vacc['is_seas_risky'].mean()\n",
        "df_vacc['is_seas_risky'].fillna(value=mean_value,inplace=True)"
      ],
      "metadata": {
        "id": "I6-rnhE1KoSW"
      },
      "execution_count": 39,
      "outputs": []
    },
    {
      "cell_type": "code",
      "source": [
        "df_vacc.isnull().sum()"
      ],
      "metadata": {
        "colab": {
          "base_uri": "https://localhost:8080/"
        },
        "id": "T4DVqE3VL8nd",
        "outputId": "aeedfc80-43ef-4fd8-b93b-57f89cf52fc3"
      },
      "execution_count": 49,
      "outputs": [
        {
          "output_type": "execute_result",
          "data": {
            "text/plain": [
              "unique_id                       0\n",
              "h1n1_worry                      0\n",
              "h1n1_awareness                  0\n",
              "antiviral_medication            0\n",
              "contact_avoidance               0\n",
              "bought_face_mask                0\n",
              "wash_hands_frequently           0\n",
              "avoid_large_gatherings          0\n",
              "reduced_outside_home_cont       0\n",
              "avoid_touch_face                0\n",
              "dr_recc_h1n1_vacc               0\n",
              "dr_recc_seasonal_vacc           0\n",
              "chronic_medic_condition         0\n",
              "cont_child_undr_6_mnths         0\n",
              "is_health_worker                0\n",
              "has_health_insur                0\n",
              "is_h1n1_vacc_effective          0\n",
              "is_h1n1_risky                   0\n",
              "sick_from_h1n1_vacc             0\n",
              "is_seas_vacc_effective          0\n",
              "is_seas_risky                   0\n",
              "sick_from_seas_vacc             0\n",
              "age_bracket                     0\n",
              "qualification                1407\n",
              "race                            0\n",
              "sex                             0\n",
              "income_level                 4423\n",
              "marital_status               1408\n",
              "housing_status               2042\n",
              "employment                   1463\n",
              "census_msa                      0\n",
              "no_of_adults                  249\n",
              "no_of_children                249\n",
              "h1n1_vaccine                    0\n",
              "dtype: int64"
            ]
          },
          "metadata": {},
          "execution_count": 49
        }
      ]
    },
    {
      "cell_type": "markdown",
      "source": [
        "Most of the missing values has been replaced"
      ],
      "metadata": {
        "id": "iHODOQPwL8Bs"
      }
    },
    {
      "cell_type": "markdown",
      "source": [
        "## Step 3: Building the model"
      ],
      "metadata": {
        "id": "eDmNVLCYMEYt"
      }
    },
    {
      "cell_type": "markdown",
      "source": [
        " Defining input and output features\n",
        "\n",
        "Here, in the input features most of the irrelavent features has been removed to improve the model's accuracy.\n",
        "\n",
        "[\"sick_from_seas_vacc\",\"age_bracket\",\"qualification\",\"race\",\"sex\",\"no_of_adults\",\"no_of_children\",\"housing_status\",\"employment\",\"census_msa\",\"income_level\",\"marital_status\"]\n",
        "\n",
        "The above features has been dropped "
      ],
      "metadata": {
        "id": "vYBFmo5mMMuv"
      }
    },
    {
      "cell_type": "code",
      "source": [
        "X=df_vacc.drop([\"sick_from_seas_vacc\",\"age_bracket\",\"qualification\",\"race\",\"sex\",\"no_of_adults\",\"no_of_children\",\"housing_status\",\"employment\",\"census_msa\",\"income_level\",\"marital_status\"],axis=1)\n",
        "y=df_vacc[\"h1n1_vaccine\"]"
      ],
      "metadata": {
        "id": "owD4OBVD_as9"
      },
      "execution_count": 41,
      "outputs": []
    },
    {
      "cell_type": "code",
      "source": [
        "#we will split the input and output features into training and test sets using the train_test_split() method\n",
        "X_train, X_test, y_train, y_test = train_test_split( X, y, test_size=0.30, random_state=0)\n"
      ],
      "metadata": {
        "id": "ZYCeppg2_ggg"
      },
      "execution_count": 42,
      "outputs": []
    },
    {
      "cell_type": "markdown",
      "source": [
        "### Step 4: Defining a training logistic regression model\n",
        "\n"
      ],
      "metadata": {
        "id": "QruxORRpMvJc"
      }
    },
    {
      "cell_type": "code",
      "source": [
        "\n",
        "model=LogisticRegression()\n",
        "model.fit(X_train,y_train)"
      ],
      "metadata": {
        "colab": {
          "base_uri": "https://localhost:8080/"
        },
        "id": "0ULGn7vH88D7",
        "outputId": "e83ea236-8057-4414-aa75-09c2ebc98e30"
      },
      "execution_count": 43,
      "outputs": [
        {
          "output_type": "stream",
          "name": "stderr",
          "text": [
            "/usr/local/lib/python3.7/dist-packages/sklearn/linear_model/_logistic.py:818: ConvergenceWarning: lbfgs failed to converge (status=1):\n",
            "STOP: TOTAL NO. of ITERATIONS REACHED LIMIT.\n",
            "\n",
            "Increase the number of iterations (max_iter) or scale the data as shown in:\n",
            "    https://scikit-learn.org/stable/modules/preprocessing.html\n",
            "Please also refer to the documentation for alternative solver options:\n",
            "    https://scikit-learn.org/stable/modules/linear_model.html#logistic-regression\n",
            "  extra_warning_msg=_LOGISTIC_SOLVER_CONVERGENCE_MSG,\n"
          ]
        },
        {
          "output_type": "execute_result",
          "data": {
            "text/plain": [
              "LogisticRegression()"
            ]
          },
          "metadata": {},
          "execution_count": 43
        }
      ]
    },
    {
      "cell_type": "markdown",
      "source": [
        "Now we will train this logistic regression model using the input (X_train) and output (y_train) training patterns. "
      ],
      "metadata": {
        "id": "KJVeZ7sOM2Uj"
      }
    },
    {
      "cell_type": "code",
      "source": [
        "model.score(X_train, y_train)"
      ],
      "metadata": {
        "colab": {
          "base_uri": "https://localhost:8080/"
        },
        "id": "0Ta0p-Zi_kJe",
        "outputId": "a4e45dc6-6774-4069-a8e7-329e4dd3663a"
      },
      "execution_count": 44,
      "outputs": [
        {
          "output_type": "execute_result",
          "data": {
            "text/plain": [
              "0.9973253450304911"
            ]
          },
          "metadata": {},
          "execution_count": 44
        }
      ]
    },
    {
      "cell_type": "code",
      "source": [
        "model.score(X_test, y_test)"
      ],
      "metadata": {
        "colab": {
          "base_uri": "https://localhost:8080/"
        },
        "id": "Byj5YwdD_rg2",
        "outputId": "34296cc5-58ae-446a-d8d4-b58bb72abd08"
      },
      "execution_count": 45,
      "outputs": [
        {
          "output_type": "execute_result",
          "data": {
            "text/plain": [
              "0.9951329090228379"
            ]
          },
          "metadata": {},
          "execution_count": 45
        }
      ]
    },
    {
      "cell_type": "markdown",
      "source": [
        "As we can see in the result, the model is 99% accurate in both training and testing data. Hence the model performs very well"
      ],
      "metadata": {
        "id": "fThYLpN_M8ra"
      }
    }
  ]
}